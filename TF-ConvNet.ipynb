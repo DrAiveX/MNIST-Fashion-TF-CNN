{
 "cells": [
  {
   "cell_type": "markdown",
   "metadata": {},
   "source": [
    "# Convolutional Neural Networks"
   ]
  },
  {
   "cell_type": "code",
   "execution_count": 1,
   "metadata": {},
   "outputs": [
    {
     "name": "stderr",
     "output_type": "stream",
     "text": [
      "Using TensorFlow backend.\n"
     ]
    }
   ],
   "source": [
    "from keras.datasets import fashion_mnist as mnist\n",
    "from keras.utils import to_categorical\n",
    "(X_train,Y_train),(X_test,Y_test)=mnist.load_data()\n",
    "Y_train=to_categorical(Y_train,10)\n",
    "Y_test=to_categorical(Y_test,10)"
   ]
  },
  {
   "cell_type": "code",
   "execution_count": 2,
   "metadata": {},
   "outputs": [
    {
     "name": "stdout",
     "output_type": "stream",
     "text": [
      "{0: 'T-shirt/top', 1: 'Trouser', 2: 'Pullover', 3: 'Dress', 4: 'Coat', 5: 'Sandal', 6: 'Shirt', 7: 'Sneaker', 8: 'Bag', 9: 'Ankle boot'}\n"
     ]
    }
   ],
   "source": [
    "categories='''0 T-shirt/top \n",
    "1 Trouser \n",
    "2 Pullover \n",
    "3 Dress \n",
    "4 Coat \n",
    "5 Sandal \n",
    "6 Shirt \n",
    "7 Sneaker \n",
    "8 Bag \n",
    "9 Ankle boot'''\n",
    "mp={}\n",
    "for i in categories.strip().split('\\n'):\n",
    "    l=i.strip().split()\n",
    "    mp[int(l[0])]=\" \".join(l[1:])\n",
    "print(mp)"
   ]
  },
  {
   "cell_type": "code",
   "execution_count": 3,
   "metadata": {},
   "outputs": [
    {
     "name": "stdout",
     "output_type": "stream",
     "text": [
      "(60000, 28, 28, 1)\n"
     ]
    }
   ],
   "source": [
    "X_train=X_train.astype(\"float32\")\n",
    "Y_train=Y_train.astype(\"float32\")\n",
    "X_test=X_test.astype(\"float32\")\n",
    "Y_test=Y_test.astype(\"float32\")\n",
    "X_train/=255\n",
    "X_test/=255\n",
    "X_train=X_train.reshape(X_train.shape[:]+tuple([1]))\n",
    "X_test=X_test.reshape(X_test.shape[:]+tuple([1]))\n",
    "print(X_train.shape)"
   ]
  },
  {
   "cell_type": "code",
   "execution_count": 4,
   "metadata": {},
   "outputs": [
    {
     "name": "stdout",
     "output_type": "stream",
     "text": [
      "(60000, 10)\n"
     ]
    }
   ],
   "source": [
    "print(Y_train.shape)"
   ]
  },
  {
   "cell_type": "code",
   "execution_count": 5,
   "metadata": {},
   "outputs": [],
   "source": [
    "import tensorflow as tf"
   ]
  },
  {
   "cell_type": "code",
   "execution_count": 6,
   "metadata": {},
   "outputs": [],
   "source": [
    "def gen_bias(shape):\n",
    "    return tf.Variable(tf.truncated_normal([shape]))\n",
    "def gen_filter(shape):\n",
    "    return tf.Variable(tf.truncated_normal(shape))"
   ]
  },
  {
   "cell_type": "code",
   "execution_count": 7,
   "metadata": {},
   "outputs": [],
   "source": [
    "def conv_layer(inp,filter_size,num_channels,num_filter):\n",
    "    filter=gen_filter([filter_size,filter_size,num_channels,num_filter])\n",
    "    bias=gen_bias(num_filter)\n",
    "    layer=tf.nn.conv2d(input=inp,filter=filter,strides=[1,1,1,1],padding=\"SAME\")\n",
    "    layer+=bias\n",
    "    layer=tf.nn.max_pool(layer,ksize=[1,2,2,1],strides=[1,1,1,1],padding=\"SAME\")\n",
    "    return tf.nn.relu(layer)"
   ]
  },
  {
   "cell_type": "code",
   "execution_count": 8,
   "metadata": {},
   "outputs": [],
   "source": [
    "def dense_layer(inp,output):\n",
    "    weights=gen_filter([int(inp.shape[-1]),output])\n",
    "    bias=gen_bias(output)\n",
    "    return tf.matmul(inp,weights)+bias"
   ]
  },
  {
   "cell_type": "code",
   "execution_count": 9,
   "metadata": {},
   "outputs": [],
   "source": [
    "def flatten_layer(input):\n",
    "    return tf.reshape(input,[-1,input.shape[1:].num_elements()])"
   ]
  },
  {
   "cell_type": "code",
   "execution_count": 10,
   "metadata": {},
   "outputs": [],
   "source": [
    "def build_cnn(inp,out):\n",
    "    layer=conv_layer(inp,3,1,54)\n",
    "    layer=conv_layer(layer,3,54,40)\n",
    "    layer=flatten_layer(layer)\n",
    "    layer=dense_layer(layer,20)\n",
    "    layer=dense_layer(layer,out)\n",
    "    return layer"
   ]
  },
  {
   "cell_type": "code",
   "execution_count": 11,
   "metadata": {},
   "outputs": [],
   "source": [
    "x=tf.placeholder(tf.float32,[None,28,28,1])\n",
    "y=tf.placeholder(tf.float32,[None,10])"
   ]
  },
  {
   "cell_type": "code",
   "execution_count": 12,
   "metadata": {},
   "outputs": [
    {
     "data": {
      "text/plain": [
       "28"
      ]
     },
     "execution_count": 12,
     "metadata": {},
     "output_type": "execute_result"
    }
   ],
   "source": [
    "x.shape[2:4].num_elements()"
   ]
  },
  {
   "cell_type": "code",
   "execution_count": 13,
   "metadata": {},
   "outputs": [],
   "source": [
    "model=build_cnn(x,10)\n",
    "loss=tf.nn.softmax_cross_entropy_with_logits_v2(logits=model,labels=y)\n",
    "loss=tf.reduce_mean(loss)\n",
    "pred=tf.nn.softmax(model)\n",
    "train=tf.train.AdamOptimizer(learning_rate=0.01).minimize(loss)\n",
    "correct=tf.equal(tf.argmax(pred,axis=1),tf.argmax(y,axis=1))\n",
    "acc=tf.reduce_mean(tf.cast(correct,tf.float32))"
   ]
  },
  {
   "cell_type": "code",
   "execution_count": 14,
   "metadata": {},
   "outputs": [
    {
     "name": "stdout",
     "output_type": "stream",
     "text": [
      "(28, 28, 1)\n"
     ]
    }
   ],
   "source": [
    "print(X_train[0].shape)"
   ]
  },
  {
   "cell_type": "code",
   "execution_count": 23,
   "metadata": {
    "scrolled": true
   },
   "outputs": [
    {
     "name": "stdout",
     "output_type": "stream",
     "text": [
      "[0] Loss =  20988.568\n",
      "[800] Loss =  703.8074\n",
      "[1600] Loss =  264.0749\n",
      "[2400] Loss =  178.94798\n",
      "[3200] Loss =  141.22296\n",
      "[4000] Loss =  123.37803\n",
      "[4800] Loss =  36.20151\n",
      "[5600] Loss =  35.553577\n",
      "[6400] Loss =  41.336372\n",
      "[7200] Loss =  53.81034\n",
      "[8000] Loss =  41.49269\n",
      "[8800] Loss =  36.402836\n",
      "[9600] Loss =  19.562931\n"
     ]
    }
   ],
   "source": [
    "import matplotlib.pyplot as plt\n",
    "import numpy as np\n",
    "sess=tf.Session()\n",
    "sess.run(tf.global_variables_initializer())\n",
    "for i in range(0,10000,32):\n",
    "    x_=X_train[i:i+32]\n",
    "    y_=Y_train[i:i+32]\n",
    "    l,_=sess.run([loss,train],feed_dict={x:x_,y:y_})\n",
    "    if not i%100:\n",
    "        print(\"[{}] Loss = \".format(i),l)"
   ]
  },
  {
   "cell_type": "code",
   "execution_count": 31,
   "metadata": {},
   "outputs": [
    {
     "name": "stdout",
     "output_type": "stream",
     "text": [
      "Prediction:  Sneaker\n"
     ]
    },
    {
     "data": {
      "image/png": "[encoded data removed]",
      "text/plain": [
       "<Figure size 432x288 with 1 Axes>"
      ]
     },
     "metadata": {},
     "output_type": "display_data"
    }
   ],
   "source": [
    "x_=X_test[9]\n",
    "plt.imshow(x_.flatten().reshape(28,28))\n",
    "x_=x_.reshape(tuple([1])+x_.shape[:])\n",
    "p=sess.run(pred,feed_dict={x:x_})\n",
    "print(\"Prediction: \",mp[np.argmax(p)])\n",
    "plt.show()"
   ]
  },
  {
   "cell_type": "code",
   "execution_count": 32,
   "metadata": {},
   "outputs": [],
   "source": [
    "#closing Session\n",
    "sess.close()"
   ]
  }
 ],
 "metadata": {
  "kernelspec": {
   "display_name": "Python 3",
   "language": "python",
   "name": "python3"
  },
  "language_info": {
   "codemirror_mode": {
    "name": "ipython",
    "version": 3
   },
   "file_extension": ".py",
   "mimetype": "text/x-python",
   "name": "python",
   "nbconvert_exporter": "python",
   "pygments_lexer": "ipython3",
   "version": "3.5.2"
  }
 },
 "nbformat": 4,
 "nbformat_minor": 2
}
